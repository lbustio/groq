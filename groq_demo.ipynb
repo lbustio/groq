{
 "cells": [
  {
   "cell_type": "markdown",
   "metadata": {},
   "source": [
    "# Setup"
   ]
  },
  {
   "cell_type": "markdown",
   "metadata": {},
   "source": [
    "Python version: 3.12.6\n",
    "\n",
    "Primero se deben instalar todos los componentes para que el código funcione."
   ]
  },
  {
   "cell_type": "code",
   "execution_count": null,
   "metadata": {},
   "outputs": [],
   "source": [
    "%pip install groq\n",
    "%pip install tenacity"
   ]
  },
  {
   "cell_type": "markdown",
   "metadata": {},
   "source": [
    "# API Handling"
   ]
  },
  {
   "cell_type": "markdown",
   "metadata": {},
   "source": [
    "Se configuran los parametros de uso de la API de groq"
   ]
  },
  {
   "cell_type": "code",
   "execution_count": 1,
   "metadata": {},
   "outputs": [],
   "source": [
    "# API KEY para Bustio\n",
    "GROQ_API_KEY = \"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\"\n",
    "\n",
    "# API KEY para Vitali\n",
    "GROQ_API_KEY = \"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\""
   ]
  },
  {
   "cell_type": "markdown",
   "metadata": {},
   "source": [
    "# Import libraries"
   ]
  },
  {
   "cell_type": "code",
   "execution_count": 2,
   "metadata": {},
   "outputs": [],
   "source": [
    "import os\n",
    "\n",
    "import groq\n",
    "import tenacity"
   ]
  },
  {
   "cell_type": "markdown",
   "metadata": {},
   "source": [
    "# Create the Groq client"
   ]
  },
  {
   "cell_type": "code",
   "execution_count": 3,
   "metadata": {},
   "outputs": [
    {
     "name": "stdout",
     "output_type": "stream",
     "text": [
      "<groq.Groq object at 0x0000020A1F30DD00>\n"
     ]
    }
   ],
   "source": [
    "# Create a client\n",
    "client = groq.Client(\n",
    "    #api_key=os.environ.get(\"GROQ_API_KEY\"), # Si se quiere usar la API Key exportada al SO.\n",
    "    api_key =GROQ_API_KEY,\n",
    ")\n",
    "\n",
    "print(client)"
   ]
  },
  {
   "cell_type": "markdown",
   "metadata": {},
   "source": [
    "# Using the Client created"
   ]
  },
  {
   "cell_type": "code",
   "execution_count": 4,
   "metadata": {},
   "outputs": [],
   "source": [
    "# Define a function to handle chat completion\n",
    "@tenacity.retry(wait=tenacity.wait_exponential(min=1, max=10), stop=tenacity.stop_after_attempt(3))\n",
    "def chat_completion(prompt, model):\n",
    "    try:\n",
    "        response = client.chat.completions.create(\n",
    "            model=model,\n",
    "            messages=[\n",
    "                {\n",
    "                    'role': 'user',\n",
    "                    'content': prompt,\n",
    "                }\n",
    "            ],\n",
    "            max_tokens=4096\n",
    "        )\n",
    "        return response.choices[0].message.content\n",
    "    except groq.RateLimitError:\n",
    "        print(\"Rate limit exceeded. Please try again later.\")\n",
    "    except groq.AuthenticationError:\n",
    "        print(\"Authentication failed. Please check your API key.\")\n",
    "    except groq.GroqError as e:\n",
    "        print(f\"Error: {e}\")"
   ]
  },
  {
   "cell_type": "markdown",
   "metadata": {},
   "source": [
    "# Using the Client created"
   ]
  },
  {
   "cell_type": "code",
   "execution_count": 5,
   "metadata": {},
   "outputs": [
    {
     "data": {
      "text/plain": [
       "\"I'm just a large language model, I don't have have access to real-time weather information. I can give you a general idea of the climate and weather patterns for different regions, but I don't have the ability to provide information about the current weather conditions.\\n\\nHowever, I can suggest some ways for you to check the weather if you're interested. You can check the weather forecast online or through a weather app on your phone or computer. You can also check the weather forecast on TV or radio broadcasts.\""
      ]
     },
     "execution_count": 5,
     "metadata": {},
     "output_type": "execute_result"
    }
   ],
   "source": [
    "#model = \"llama3-8b-8192\" # Erroneous model for rise exceptions\n",
    "model = \"llama3-8b-8192\"\n",
    "prompt = \"Hello, what's the weather like today?\"\n",
    "\n",
    "chat_completion(prompt, model)"
   ]
  },
  {
   "cell_type": "markdown",
   "metadata": {},
   "source": [
    "# Some examples"
   ]
  },
  {
   "cell_type": "code",
   "execution_count": null,
   "metadata": {},
   "outputs": [],
   "source": [
    "completion = client.chat.completions.create(\n",
    "    #model=\"llama3-8b-8192\",\n",
    "    model=\"llama-3.1-70b-versatile\",\n",
    "    messages=[\n",
    "        {\n",
    "            \"role\": \"system\",\n",
    "            \"content\": \"From the user text I need you to extract the relevant words or phrases. Explain why you select each phrase as relevant.\"\n",
    "        },\n",
    "        {\n",
    "            \"role\": \"user\",\n",
    "            \"content\": \"Hillary Clinton agrees with John McCain by voting to give George Bush the benefit of the doubt on Iran.\"\n",
    "        }\n",
    "    ],\n",
    "    temperature=1,\n",
    "    max_tokens=1024,\n",
    "    top_p=1,\n",
    "    stream=True,\n",
    "    stop=None,\n",
    ")\n",
    "\n",
    "for chunk in completion:\n",
    "    print(chunk.choices[0].delta.content or \"\", end=\"\")"
   ]
  }
 ],
 "metadata": {
  "kernelspec": {
   "display_name": ".venv",
   "language": "python",
   "name": "python3"
  },
  "language_info": {
   "codemirror_mode": {
    "name": "ipython",
    "version": 3
   },
   "file_extension": ".py",
   "mimetype": "text/x-python",
   "name": "python",
   "nbconvert_exporter": "python",
   "pygments_lexer": "ipython3",
   "version": "3.12.6"
  }
 },
 "nbformat": 4,
 "nbformat_minor": 2
}
